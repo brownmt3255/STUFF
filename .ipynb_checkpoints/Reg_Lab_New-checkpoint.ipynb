{
 "cells": [
  {
   "cell_type": "markdown",
   "metadata": {},
   "source": [
    "Step 0: EDA (explore)"
   ]
  },
  {
   "cell_type": "code",
   "execution_count": 1,
   "metadata": {
    "collapsed": false
   },
   "outputs": [
    {
     "name": "stderr",
     "output_type": "stream",
     "text": [
      "/Users/jroyalty/anaconda/lib/python2.7/site-packages/sklearn/cross_validation.py:44: DeprecationWarning: This module was deprecated in version 0.18 in favor of the model_selection module into which all the refactored classes and functions are moved. Also note that the interface of the new CV iterators are different from that of this module. This module will be removed in 0.20.\n",
      "  \"This module will be removed in 0.20.\", DeprecationWarning)\n"
     ]
    }
   ],
   "source": [
    "% matplotlib inline\n",
    "from matplotlib import pyplot as plt\n",
    "import numpy as np\n",
    "import pandas as pd\n",
    "import seaborn as sns\n",
    "from sklearn import datasets, linear_model, metrics\n",
    "from sklearn.cross_validation import cross_val_score, cross_val_predict, train_test_split\n",
    "from sklearn.metrics import r2_score\n",
    "\n",
    "boston = datasets.load_boston()\n",
    "bdf = pd.DataFrame(boston.data, columns=boston.feature_names)\n",
    "y = boston.target\n",
    "\n",
    "X = bdf[['PTRATIO']]\n",
    "\n",
    "#print X"
   ]
  },
  {
   "cell_type": "code",
   "execution_count": 2,
   "metadata": {
    "collapsed": false
   },
   "outputs": [],
   "source": [
    "#sns.pairplot(bdf)\n",
    "#RM\n"
   ]
  },
  {
   "cell_type": "markdown",
   "metadata": {},
   "source": [
    "Step 1: train test split. train on train, apply to testing.\n",
    "500.\n",
    "Take first 250 for training, bottom 250 for testing.\n",
    "\n",
    "Step 2: Linear regression with sklearn\n",
    "- run linear regression based on training\n",
    "- that gets us a linear regression model. R^2 is training error.\n",
    "- apply model and predict, and compare prediction to training, another r^2, compare those 2..\n"
   ]
  },
  {
   "cell_type": "code",
   "execution_count": 3,
   "metadata": {
    "collapsed": false
   },
   "outputs": [
    {
     "name": "stdout",
     "output_type": "stream",
     "text": [
      "50:50 test split\n",
      "Training r^2: 0.236511664037\n",
      "Test r^2: 0.229377342809\n",
      "Cross-validated scores: [-0.02804646 -0.02451286 -0.16183982  0.03434793 -0.61793137]\n",
      "Cross-Predicted Accuracy: 0.172708618708\n"
     ]
    }
   ],
   "source": [
    "# Split by X, test train data on test data, and CV, all on input DF\n",
    "\n",
    "print \"50:50 test split\"\n",
    "\n",
    "#Step 1\n",
    "X_train, X_test, y_train, y_test = train_test_split(X, y, test_size=0.7)\n",
    "\n",
    "#Step 2\n",
    "lm = linear_model.LinearRegression()\n",
    "\n",
    "#training the model\n",
    "model = lm.fit(X_train, y_train)\n",
    "\n",
    "predictions = lm.predict(X_test)\n",
    "print \"Training r^2:\", model.score(X_train, y_train)\n",
    "print \"Test r^2:\", model.score(X_test, y_test)\n",
    "\n",
    "scores = cross_val_score(model, X, y, cv=5)\n",
    "print \"Cross-validated scores:\", scores\n",
    "# Make cross validated predictions\n",
    "predictions = cross_val_predict(model, X, y, cv=5)\n",
    "#plt.scatter(y, predictions)\n",
    "accuracy = metrics.r2_score(y, predictions)\n",
    "print \"Cross-Predicted Accuracy:\", accuracy\n",
    "\n",
    "\n",
    "\n"
   ]
  },
  {
   "cell_type": "markdown",
   "metadata": {},
   "source": [
    "Step 3: Change degree (1,2,3,4,5), np.vander\n",
    "\n",
    "Still working on this train and test datasets"
   ]
  },
  {
   "cell_type": "code",
   "execution_count": 4,
   "metadata": {
    "collapsed": false
   },
   "outputs": [
    {
     "name": "stdout",
     "output_type": "stream",
     "text": [
      "Training high power r^2: 0.295525301538\n",
      "Test high power r^2: 0.176868284675\n",
      "coeff [  -0.19078962    9.77841779 -166.88909582    0.        ]\n"
     ]
    }
   ],
   "source": [
    "X_train_vander = np.vander(X_train['PTRATIO'], 4)\n",
    "X_test_vander = np.vander(X_test['PTRATIO'], 4)\n",
    "\n",
    "lm = linear_model.LinearRegression()\n",
    "model = lm.fit(X_train_vander, y_train)\n",
    "\n",
    "predictions = lm.predict(X_test_vander)\n",
    "print \"Training high power r^2:\", model.score(X_train_vander, y_train)\n",
    "print \"Test high power r^2:\", model.score(X_test_vander, y_test)\n",
    "print \"coeff\", model.coef_\n",
    "# scores = cross_val_score(model, X, y, cv=5)\n",
    "# print \"Cross-validated scores:\", scores\n",
    "# # Make cross validated predictions\n",
    "# predictions = cross_val_predict(model, X, y, cv=5)\n",
    "# #plt.scatter(y, predictions)\n",
    "# accuracy = metrics.r2_score(y, predictions)\n",
    "# print \"Cross-Predicted Accuracy:\", accuracy"
   ]
  },
  {
   "cell_type": "code",
   "execution_count": 5,
   "metadata": {
    "collapsed": false
   },
   "outputs": [
    {
     "name": "stdout",
     "output_type": "stream",
     "text": [
      "Training high power r^2: 0.41935269519\n",
      "Test high power r^2: 0.159089431164\n",
      "coeff [  1.18667486e-01  -8.29030649e+00   2.15159951e+02  -2.45909281e+03\n",
      "   0.00000000e+00]\n"
     ]
    }
   ],
   "source": [
    "X_train_vander = np.vander(X_train['PTRATIO'], 5)\n",
    "X_test_vander = np.vander(X_test['PTRATIO'], 5)\n",
    "\n",
    "lm = linear_model.LinearRegression()\n",
    "model = lm.fit(X_train_vander, y_train)\n",
    "\n",
    "predictions = lm.predict(X_test_vander)\n",
    "print \"Training high power r^2:\", model.score(X_train_vander, y_train)\n",
    "print \"Test high power r^2:\", model.score(X_test_vander, y_test)\n",
    "print \"coeff\", model.coef_\n",
    "# scores = cross_val_score(model, X, y, cv=5)\n",
    "# print \"Cross-validated scores:\", scores\n",
    "# # Make cross validated predictions\n",
    "# predictions = cross_val_predict(model, X, y, cv=5)\n",
    "# #plt.scatter(y, predictions)\n",
    "# accuracy = metrics.r2_score(y, predictions)\n",
    "# print \"Cross-Predicted Accuracy:\", accuracy"
   ]
  },
  {
   "cell_type": "markdown",
   "metadata": {},
   "source": [
    "Step 4: RidgeCV when testing error starts to go up, training error is still going down."
   ]
  },
  {
   "cell_type": "code",
   "execution_count": 6,
   "metadata": {
    "collapsed": false
   },
   "outputs": [
    {
     "name": "stdout",
     "output_type": "stream",
     "text": [
      "Training high power r^2: 0.260447359624\n",
      "Test high power r^2: 0.23411430119\n",
      "coeff [ -0.03943698   1.89911617 -31.75750844   0.        ]\n"
     ]
    }
   ],
   "source": [
    "X_train_vander = np.vander(X_train['PTRATIO'], 4)\n",
    "X_test_vander = np.vander(X_test['PTRATIO'], 4)\n",
    "\n",
    "lm = linear_model.RidgeCV(alphas=np.arange(0.1, 10, 0.1))\n",
    "model = lm.fit(X_train_vander, y_train)\n",
    "\n",
    "predictions = lm.predict(X_test_vander)\n",
    "print \"Training high power r^2:\", model.score(X_train_vander, y_train)\n",
    "print \"Test high power r^2:\", model.score(X_test_vander, y_test)\n",
    "print \"coeff\", model.coef_"
   ]
  },
  {
   "cell_type": "code",
   "execution_count": 7,
   "metadata": {
    "collapsed": false
   },
   "outputs": [
    {
     "name": "stdout",
     "output_type": "stream",
     "text": [
      "Training high power r^2: 0.279402404692\n",
      "Test high power r^2: 0.188015501048\n",
      "coeff [ -6.69779075e-03   3.00163712e-01  -3.57359481e+00  -7.32758269e+00\n",
      "   0.00000000e+00]\n"
     ]
    }
   ],
   "source": [
    "X_train_vander = np.vander(X_train['PTRATIO'], 5)\n",
    "X_test_vander = np.vander(X_test['PTRATIO'], 5)\n",
    "\n",
    "lm = linear_model.RidgeCV(alphas=np.arange(0.1, 10, 0.1))\n",
    "model = lm.fit(X_train_vander, y_train)\n",
    "\n",
    "predictions = lm.predict(X_test_vander)\n",
    "print \"Training high power r^2:\", model.score(X_train_vander, y_train)\n",
    "print \"Test high power r^2:\", model.score(X_test_vander, y_test)\n",
    "print \"coeff\", model.coef_"
   ]
  },
  {
   "cell_type": "code",
   "execution_count": null,
   "metadata": {
    "collapsed": true
   },
   "outputs": [],
   "source": []
  },
  {
   "cell_type": "code",
   "execution_count": null,
   "metadata": {
    "collapsed": true
   },
   "outputs": [],
   "source": []
  },
  {
   "cell_type": "code",
   "execution_count": null,
   "metadata": {
    "collapsed": true
   },
   "outputs": [],
   "source": []
  },
  {
   "cell_type": "code",
   "execution_count": 8,
   "metadata": {
    "collapsed": false
   },
   "outputs": [
    {
     "name": "stdout",
     "output_type": "stream",
     "text": [
      "50:50 test split\n",
      "Training r^2: 0.200733334211\n",
      "Test r^2: 0.25413730226\n",
      "Cross-validated scores: [-0.02804646 -0.02451286 -0.16183982  0.03434793 -0.61793137]\n",
      "Cross-Predicted Accuracy: 0.172708618708\n"
     ]
    }
   ],
   "source": [
    "# Split by X, test train data on test data, and CV, all on input DF\n",
    "\n",
    "print \"50:50 test split\"\n",
    "\n",
    "#Step 1\n",
    "X_train, X_test, y_train, y_test = train_test_split(X, y, test_size=0.9)\n",
    "\n",
    "#Step 2\n",
    "lm = linear_model.LinearRegression()\n",
    "\n",
    "#training the model\n",
    "model = lm.fit(X_train, y_train)\n",
    "\n",
    "predictions = lm.predict(X_test)\n",
    "print \"Training r^2:\", model.score(X_train, y_train)\n",
    "print \"Test r^2:\", model.score(X_test, y_test)\n",
    "\n",
    "scores = cross_val_score(model, X, y, cv=5)\n",
    "print \"Cross-validated scores:\", scores\n",
    "# Make cross validated predictions\n",
    "predictions = cross_val_predict(model, X, y, cv=5)\n",
    "#plt.scatter(y, predictions)\n",
    "accuracy = metrics.r2_score(y, predictions)\n",
    "print \"Cross-Predicted Accuracy:\", accuracy\n",
    "\n",
    "\n",
    "\n"
   ]
  },
  {
   "cell_type": "code",
   "execution_count": 9,
   "metadata": {
    "collapsed": false
   },
   "outputs": [
    {
     "name": "stdout",
     "output_type": "stream",
     "text": [
      "Training high power r^2: 0.246788182817\n",
      "Test high power r^2: -0.133483598276\n",
      "coeff [  2.38354485e-01  -1.32514732e+01   2.41418955e+02   0.00000000e+00]\n"
     ]
    }
   ],
   "source": [
    "X_train_vander = np.vander(X_train['PTRATIO'], 4)\n",
    "X_test_vander = np.vander(X_test['PTRATIO'], 4)\n",
    "\n",
    "lm = linear_model.LinearRegression()\n",
    "model = lm.fit(X_train_vander, y_train)\n",
    "\n",
    "predictions = lm.predict(X_test_vander)\n",
    "print \"Training high power r^2:\", model.score(X_train_vander, y_train)\n",
    "print \"Test high power r^2:\", model.score(X_test_vander, y_test)\n",
    "print \"coeff\", model.coef_\n",
    "# scores = cross_val_score(model, X, y, cv=5)\n",
    "# print \"Cross-validated scores:\", scores\n",
    "# # Make cross validated predictions\n",
    "# predictions = cross_val_predict(model, X, y, cv=5)\n",
    "# #plt.scatter(y, predictions)\n",
    "# accuracy = metrics.r2_score(y, predictions)\n",
    "# print \"Cross-Predicted Accuracy:\", accuracy"
   ]
  },
  {
   "cell_type": "code",
   "execution_count": 10,
   "metadata": {
    "collapsed": false
   },
   "outputs": [
    {
     "name": "stdout",
     "output_type": "stream",
     "text": [
      "Training high power r^2: 0.2215512942\n",
      "Test high power r^2: 0.237700545331\n",
      "coeff [-0.01139867  0.25058878  0.05964813  0.        ]\n"
     ]
    }
   ],
   "source": [
    "X_train_vander = np.vander(X_train['PTRATIO'], 4)\n",
    "X_test_vander = np.vander(X_test['PTRATIO'], 4)\n",
    "\n",
    "lm = linear_model.RidgeCV(alphas=np.arange(0.1, 10, 0.1))\n",
    "model = lm.fit(X_train_vander, y_train)\n",
    "\n",
    "predictions = lm.predict(X_test_vander)\n",
    "print \"Training high power r^2:\", model.score(X_train_vander, y_train)\n",
    "print \"Test high power r^2:\", model.score(X_test_vander, y_test)\n",
    "print \"coeff\", model.coef_"
   ]
  },
  {
   "cell_type": "code",
   "execution_count": null,
   "metadata": {
    "collapsed": true
   },
   "outputs": [],
   "source": []
  }
 ],
 "metadata": {
  "anaconda-cloud": {},
  "kernelspec": {
   "display_name": "Python [conda root]",
   "language": "python",
   "name": "conda-root-py"
  },
  "language_info": {
   "codemirror_mode": {
    "name": "ipython",
    "version": 2
   },
   "file_extension": ".py",
   "mimetype": "text/x-python",
   "name": "python",
   "nbconvert_exporter": "python",
   "pygments_lexer": "ipython2",
   "version": "2.7.12"
  }
 },
 "nbformat": 4,
 "nbformat_minor": 1
}
